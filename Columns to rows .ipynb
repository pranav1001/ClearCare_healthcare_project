{
 "cells": [
  {
   "cell_type": "code",
   "execution_count": null,
   "id": "6ed21764",
   "metadata": {},
   "outputs": [],
   "source": [
    "import pandas as pd\n",
    "\n",
    "# Define the list of allowed column names\n",
    "allowed_columns = [\n",
    "    \"standard_charge|Aetna Meritain (IP)|negotiated_dollar\",\n",
    "    \"standard_charge|Aetna Meritain (OP)|negotiated_dollar\",\n",
    "    \"standard_charge|Aetna PPO (IP)|negotiated_dollar\",\n",
    "    \"standard_charge|Aetna PPO (OP)|negotiated_dollar\",\n",
    "    \"standard_charge|Aetna QCHP State of IL (IP)|negotiated_dollar\",\n",
    "    \"standard_charge|Aetna QCHP State of IL (OP)|negotiated_dollar\",\n",
    "    \"standard_charge|Aetna/Coventry IL HMO (IP)|negotiated_dollar\",\n",
    "    \"standard_charge|Aetna/Coventry IL HMO (OP)|negotiated_dollar\",\n",
    "    \"standard_charge|Aetna/Coventry IL OAP (IP)|negotiated_dollar\",\n",
    "    \"standard_charge|Aetna/Coventry IL OAP (OP)|negotiated_dollar\",\n",
    "    \"standard_charge|Aetna/Coventry Medicare Advantage (OP)|negotiated_dollar\",\n",
    "    \"standard_charge|Aetna/Coventry One PPO/AS)/ACA (OP)|negotiated_dollar\",\n",
    "    \"standard_charge|Aetna/Coventry One PPO/ASA/ACA (IP)|negotiated_dollar\",\n",
    "    \"standard_charge|Aetna/Coventry PPO (IP)|negotiated_dollar\",\n",
    "    \"standard_charge|Aetna/Coventry PPO (OP)|negotiated_dollar\",\n",
    "    \"standard_charge|BCBS MMAI (OP)|negotiated_dollar\",\n",
    "    \"standard_charge|BCBS PPO (IP)|negotiated_dollar\",\n",
    "    \"standard_charge|BCBS PPO/HMO Medicare Advantage (OP)|negotiated_dollar\",\n",
    "    \"standard_charge|Cigna (IP)|negotiated_dollar\",\n",
    "    \"standard_charge|Cigna (OP)|negotiated_dollar\",\n",
    "    \"standard_charge|Humana Choice Care (IP)|negotiated_dollar\",\n",
    "    \"standard_charge|Humana Choice Care (OP)|negotiated_dollar\",\n",
    "    \"standard_charge|Humana PPO Medicare Advantage (OP)|negotiated_dollar\",\n",
    "    \"standard_charge|UHC (OP)|negotiated_dollar\",\n",
    "    \"standard_charge|UHC PPO Medicare Advantage (OP)|negotiated_dollar\"\n",
    "]\n",
    "\n",
    "# Load the Excel file\n",
    "file_path = 'Jacksonville cleaned dataset.xlsx'  \n",
    "df = pd.read_excel(file_path)\n",
    "\n",
    "# Retain only the allowed columns from column \"G\" onwards\n",
    "starting_column = 'standard_charge|BCBS PPO (IP)|negotiated_dollar'\n",
    "col_index = df.columns.get_loc(starting_column)\n",
    "filtered_columns = df.columns[:col_index].tolist() + [col for col in df.columns[col_index:] if col in allowed_columns]\n",
    "df_filtered = df[filtered_columns]\n",
    "\n",
    "# Save the filtered DataFrame to a new Excel file\n",
    "output_path = 'Jacksonville cleaned dataset column to row.xlsx'  \n",
    "df_filtered.to_excel(output_path, index=False)"
   ]
  },
  {
   "cell_type": "code",
   "execution_count": null,
   "id": "239b98b3",
   "metadata": {},
   "outputs": [
    {
     "ename": "ModuleNotFoundError",
     "evalue": "No module named 'ace_tools'",
     "output_type": "error",
     "traceback": [
      "\u001b[1;31m---------------------------------------------------------------------------\u001b[0m",
      "\u001b[1;31mModuleNotFoundError\u001b[0m                       Traceback (most recent call last)",
      "Cell \u001b[1;32mIn[5], line 25\u001b[0m\n\u001b[0;32m     22\u001b[0m df_long\u001b[38;5;241m.\u001b[39mto_excel(output_path, index\u001b[38;5;241m=\u001b[39m\u001b[38;5;28;01mFalse\u001b[39;00m)\n\u001b[0;32m     24\u001b[0m \u001b[38;5;66;03m# Displaying the reshaped DataFrame to the user for verification\u001b[39;00m\n\u001b[1;32m---> 25\u001b[0m \u001b[38;5;28;01mimport\u001b[39;00m \u001b[38;5;21;01mace_tools\u001b[39;00m \u001b[38;5;28;01mas\u001b[39;00m \u001b[38;5;21;01mtools\u001b[39;00m; tools\u001b[38;5;241m.\u001b[39mdisplay_dataframe_to_user(name\u001b[38;5;241m=\u001b[39m\u001b[38;5;124m\"\u001b[39m\u001b[38;5;124mReshaped Jacksonville Dataset\u001b[39m\u001b[38;5;124m\"\u001b[39m, dataframe\u001b[38;5;241m=\u001b[39mdf_long)\n",
      "\u001b[1;31mModuleNotFoundError\u001b[0m: No module named 'ace_tools'"
     ]
    }
   ],
   "source": [
    "import pandas as pd\n",
    "\n",
    "# Load the Jacksonville cleaned dataset column to row\n",
    "jacksonville_path = 'Jacksonville cleaned dataset column to row.xlsx'\n",
    "df_jacksonville = pd.read_excel(jacksonville_path)\n",
    "\n",
    "# Load the Morristown cleaned dataset 1 to understand the structure of Sheet 1\n",
    "morristown_path = 'Morristown cleaned dataset 1.xlsx'\n",
    "df_morristown = pd.read_excel(morristown_path, sheet_name='Sheet1')\n",
    "\n",
    "# Reshape Jacksonville dataset: converting columns into rows for insurance plans and prices\n",
    "\n",
    "\n",
    "# Identify the HIPAA code column \n",
    "hipaa_column = df_jacksonville.columns[0]\n",
    "\n",
    "# Use pd.melt to reshape from wide to long format\n",
    "df_long = pd.melt(df_jacksonville, id_vars=[hipaa_column], var_name=\"Insurance Plan\", value_name=\"Price\")\n",
    "\n",
    "# Save the reshaped DataFrame to a new Excel file\n",
    "output_path = 'Jacksonville cleaned dataset row format.xlsx'\n",
    "df_long.to_excel(output_path, index=False)\n",
    "\n",
    "# Displaying the reshaped DataFrame to the user for verification\n",
    "import ace_tools as tools; tools.display_dataframe_to_user(name=\"Reshaped Jacksonville Dataset\", dataframe=df_long)"
   ]
  },
  {
   "cell_type": "code",
   "execution_count": 6,
   "id": "e4afd801",
   "metadata": {},
   "outputs": [
    {
     "name": "stdout",
     "output_type": "stream",
     "text": [
      "Reshaping completed. The output file is saved as 'Jacksonville cleaned dataset row format.xlsx'.\n"
     ]
    }
   ],
   "source": [
    "import pandas as pd\n",
    "\n",
    "# Load the Jacksonville cleaned dataset column to row\n",
    "jacksonville_path = 'Jacksonville cleaned dataset column to row.xlsx'\n",
    "df_jacksonville = pd.read_excel(jacksonville_path)\n",
    "\n",
    "# Load the Morristown cleaned dataset 1 to understand the structure of Sheet 1\n",
    "morristown_path = 'Morristown cleaned dataset 1.xlsx'\n",
    "df_morristown = pd.read_excel(morristown_path, sheet_name='Sheet1')\n",
    "\n",
    "# Reshape Jacksonville dataset: converting columns into rows for insurance plans and prices\n",
    "# Assuming the first column contains HIPAA codes or identifiers, we keep it fixed and melt the other columns\n",
    "\n",
    "# Identify the HIPAA code column \n",
    "hipaa_column = df_jacksonville.columns[0]\n",
    "\n",
    "# Use pd.melt to reshape from wide to long format\n",
    "df_long = pd.melt(df_jacksonville, id_vars=[hipaa_column], var_name=\"Insurance Plan\", value_name=\"Price\")\n",
    "\n",
    "# Save the reshaped DataFrame to a new Excel file\n",
    "output_path = 'Jacksonville cleaned dataset row format.xlsx'\n",
    "df_long.to_excel(output_path, index=False)\n",
    "\n",
    "print(\"Reshaping completed. The output file is saved as 'Jacksonville cleaned dataset row format.xlsx'.\")\n"
   ]
  },
  {
   "cell_type": "code",
   "execution_count": 9,
   "id": "e85684c9",
   "metadata": {},
   "outputs": [
    {
     "name": "stdout",
     "output_type": "stream",
     "text": [
      "Transformation complete. The output file is saved as 'Jacksonville_transformed.xlsx'.\n"
     ]
    }
   ],
   "source": [
    "import pandas as pd\n",
    "\n",
    "# Load the dataset\n",
    "jacksonville_path = 'Jacksonville cleaned dataset column to row.xlsx'\n",
    "df = pd.read_excel(jacksonville_path)\n",
    "\n",
    "# Define fixed and insurance columns\n",
    "fixed_columns = ['code|1', 'description', 'standard_charge | gross', 'standard_charge | min', 'standard_charge | max']\n",
    "insurance_columns = [col for col in df.columns if col not in fixed_columns]\n",
    "\n",
    "# Reshape the data using melt\n",
    "df_melted = pd.melt(df, id_vars=fixed_columns, value_vars=insurance_columns,\n",
    "                    var_name='Insurance Plan', value_name='standard_charge | negotiated_dollar')\n",
    "\n",
    "# Separate payer_name and plan_name from the 'Insurance Plan' column\n",
    "df_melted[['payer_name', 'plan_name']] = df_melted['Insurance Plan'].str.extract(r'standard_charge\\|(.*?)\\|(.*?)\\|negotiated_dollar')\n",
    "\n",
    "# Reorder columns to match the desired format\n",
    "df_final = df_melted[['code|1', 'description', 'standard_charge | gross', 'payer_name', 'plan_name',\n",
    "                      'standard_charge | negotiated_dollar', 'standard_charge | min', 'standard_charge | max']]\n",
    "\n",
    "# Save the transformed DataFrame to a new Excel file\n",
    "output_path = 'Jacksonville_transformed.xlsx'\n",
    "df_final.to_excel(output_path, index=False)\n",
    "\n",
    "print(\"Transformation complete. The output file is saved as 'Jacksonville_transformed.xlsx'.\")\n"
   ]
  },
  {
   "cell_type": "code",
   "execution_count": 12,
   "id": "37a13bc7",
   "metadata": {},
   "outputs": [
    {
     "name": "stdout",
     "output_type": "stream",
     "text": [
      "Data from Sheet 7 has been transformed and saved to 'Sheet7_Converted'.\n"
     ]
    }
   ],
   "source": [
    "import pandas as pd\n",
    "\n",
    "# Load the Excel file\n",
    "file_path = 'Jacksonville cleaned dataset - Utkarsha.xlsx'\n",
    "\n",
    "# Load data from Sheet 7 and Sheet 4 (reference format)\n",
    "df_sheet7 = pd.read_excel(file_path, sheet_name='Sheet7')\n",
    "df_sheet4_format = pd.read_excel(file_path, sheet_name='Sheet4')\n",
    "\n",
    "# Identify the columns to keep as fixed and the columns to melt\n",
    "fixed_columns = ['code|1', 'description', 'standard_charge | gross', 'standard_charge | min', 'standard_charge | max']\n",
    "insurance_columns = [col for col in df_sheet7.columns if col not in fixed_columns]\n",
    "\n",
    "# Reshape the data in Sheet 7 to match the format in Sheet 4\n",
    "df_melted = pd.melt(df_sheet7, id_vars=fixed_columns, value_vars=insurance_columns,\n",
    "                    var_name='Insurance Plan', value_name='standard_charge | negotiated_dollar')\n",
    "\n",
    "# Extract 'payer_name' and 'plan_name' from 'Insurance Plan' column\n",
    "df_melted[['payer_name', 'plan_name']] = df_melted['Insurance Plan'].str.extract(r'standard_charge\\|(.*?)\\|(.*?)\\|negotiated_dollar')\n",
    "\n",
    "# Reorder columns to match the format in Sheet 4\n",
    "df_final = df_melted[['code|1', 'description', 'standard_charge | gross', 'payer_name', 'plan_name',\n",
    "                      'standard_charge | negotiated_dollar', 'standard_charge | min', 'standard_charge | max']]\n",
    "\n",
    "# Save the transformed DataFrame to a new sheet in the Excel file\n",
    "with pd.ExcelWriter(file_path, mode='a', engine='openpyxl') as writer:\n",
    "    df_final.to_excel(writer, sheet_name='Sheet7_Converted', index=False)\n",
    "\n",
    "print(\"Data from Sheet 7 has been transformed and saved to 'Sheet7_Converted'.\")\n"
   ]
  },
  {
   "cell_type": "code",
   "execution_count": 13,
   "id": "72982bf4",
   "metadata": {},
   "outputs": [
    {
     "name": "stdout",
     "output_type": "stream",
     "text": [
      "Data from Sheet 7 has been transformed and saved to 'Sheet7_Converted_Corrected'.\n"
     ]
    }
   ],
   "source": [
    "import pandas as pd\n",
    "\n",
    "# Load the Jacksonville dataset\n",
    "file_path = 'Jacksonville cleaned dataset - Utkarsha.xlsx'\n",
    "df_sheet7 = pd.read_excel(file_path, sheet_name='Sheet7')\n",
    "\n",
    "# Define fixed columns and identify insurance columns for melting\n",
    "fixed_columns = ['code|1', 'description', 'standard_charge | gross', 'standard_charge | min', 'standard_charge | max']\n",
    "insurance_columns = [col for col in df_sheet7.columns if col not in fixed_columns]\n",
    "\n",
    "# Reshape the data in Sheet 7\n",
    "df_melted = pd.melt(df_sheet7, id_vars=fixed_columns, value_vars=insurance_columns,\n",
    "                    var_name='Insurance Plan', value_name='standard_charge | negotiated_dollar')\n",
    "\n",
    "# Update the regex to accurately capture `payer_name` and `plan_name` based on the observed pattern\n",
    "df_melted[['payer_name', 'plan_name']] = df_melted['Insurance Plan'].str.extract(r'standard_charge\\|([^|]+)\\(([^)]+)\\)\\|negotiated_dollar')\n",
    "\n",
    "# Reorder columns to match the desired format\n",
    "df_final = df_melted[['code|1', 'description', 'standard_charge | gross', 'payer_name', 'plan_name',\n",
    "                      'standard_charge | negotiated_dollar', 'standard_charge | min', 'standard_charge | max']]\n",
    "\n",
    "# Save the transformed DataFrame to a new Excel sheet\n",
    "output_path = 'Jacksonville_transformed_corrected.xlsx'\n",
    "with pd.ExcelWriter(file_path, mode='a', engine='openpyxl') as writer:\n",
    "    df_final.to_excel(writer, sheet_name='Sheet7_Converted_Corrected', index=False)\n",
    "\n",
    "print(\"Data from Sheet 7 has been transformed and saved to 'Sheet7_Converted_Corrected'.\")\n"
   ]
  },
  {
   "cell_type": "code",
   "execution_count": 16,
   "id": "8370493a",
   "metadata": {},
   "outputs": [
    {
     "name": "stdout",
     "output_type": "stream",
     "text": [
      "Data has been saved to 'Sheet7_Converted_Final' in the existing Excel file.\n"
     ]
    }
   ],
   "source": [
    "import pandas as pd\n",
    "from openpyxl import load_workbook\n",
    "\n",
    "# Load the dataset from Sheet 7\n",
    "file_path = 'Jacksonville cleaned dataset - Utkarsha.xlsx'\n",
    "df_sheet7 = pd.read_excel(file_path, sheet_name='Sheet7')\n",
    "\n",
    "# Define fixed columns and identify insurance columns for melting\n",
    "fixed_columns = ['code|1', 'description', 'standard_charge | gross', 'standard_charge | min', 'standard_charge | max']\n",
    "insurance_columns = [col for col in df_sheet7.columns if col not in fixed_columns]\n",
    "\n",
    "# Reshape the data in Sheet 7\n",
    "df_melted = pd.melt(df_sheet7, id_vars=fixed_columns, value_vars=insurance_columns,\n",
    "                    var_name='Insurance Plan', value_name='standard_charge | negotiated_dollar')\n",
    "\n",
    "# Extract payer_name and plan_name\n",
    "df_melted['payer_name'] = df_melted['Insurance Plan'].str.extract(r'standard_charge\\|([^|]+)')\n",
    "df_melted['plan_name'] = df_melted['Insurance Plan'].str.replace(r'standard_charge\\||\\|negotiated_dollar', '', regex=True)\n",
    "\n",
    "# Reorder columns to match the desired format\n",
    "df_final = df_melted[['code|1', 'description', 'standard_charge | gross', 'payer_name', 'plan_name',\n",
    "                      'standard_charge | negotiated_dollar', 'standard_charge | min', 'standard_charge | max']]\n",
    "\n",
    "# Load the existing workbook and append the new sheet\n",
    "with pd.ExcelWriter(file_path, engine='openpyxl', mode='a') as writer:\n",
    "    df_final.to_excel(writer, sheet_name='Sheet7_Converted_Final', index=False)\n",
    "\n",
    "print(\"Data has been saved to 'Sheet7_Converted_Final' in the existing Excel file.\")\n"
   ]
  },
  {
   "cell_type": "code",
   "execution_count": 20,
   "id": "a1ba6d3c",
   "metadata": {},
   "outputs": [
    {
     "name": "stdout",
     "output_type": "stream",
     "text": [
      "Data has been saved to 'New Final' in the existing Excel file.\n"
     ]
    }
   ],
   "source": [
    "import pandas as pd\n",
    "from openpyxl import load_workbook\n",
    "\n",
    "# Load the dataset from Sheet 7\n",
    "file_path = 'Jacksonville cleaned dataset - Utkarsha.xlsx'\n",
    "df_sheet7 = pd.read_excel(file_path, sheet_name='Sheet7')\n",
    "\n",
    "# Define fixed columns and identify insurance columns for melting\n",
    "fixed_columns = ['code|1', 'description', 'standard_charge | gross', 'standard_charge | min', 'standard_charge | max']\n",
    "insurance_columns = [col for col in df_sheet7.columns if col not in fixed_columns]\n",
    "\n",
    "# Reshape the data in Sheet 7\n",
    "df_melted = pd.melt(df_sheet7, id_vars=fixed_columns, value_vars=insurance_columns,\n",
    "                    var_name='Insurance Plan', value_name='standard_charge | negotiated_dollar')\n",
    "\n",
    "# Extract payer_name using a list of common payer names, and plan_name as the rest of the text\n",
    "payer_list = ['Aetna', 'Cigna', 'Humana', 'Horizon', 'Wellcare', 'United_Healthcare']\n",
    "df_melted['payer_name'] = df_melted['Insurance Plan'].apply(lambda x: next((payer for payer in payer_list if payer in x), 'Other'))\n",
    "df_melted['plan_name'] = df_melted['Insurance Plan'].str.replace(r'standard_charge\\||\\|negotiated_dollar', '', regex=True)\n",
    "\n",
    "# Reorder columns to match the desired format\n",
    "df_final = df_melted[['code|1', 'description', 'standard_charge | gross', 'payer_name', 'plan_name',\n",
    "                      'standard_charge | negotiated_dollar', 'standard_charge | min', 'standard_charge | max']]\n",
    "\n",
    "# Load the existing workbook to append the new sheet\n",
    "with pd.ExcelWriter(file_path, engine='openpyxl', mode='a') as writer:\n",
    "    df_final.to_excel(writer, sheet_name='New final', index=False)\n",
    "\n",
    "print(\"Data has been saved to 'New Final' in the existing Excel file.\")\n"
   ]
  },
  {
   "cell_type": "code",
   "execution_count": 21,
   "id": "2b38e5c8",
   "metadata": {},
   "outputs": [
    {
     "name": "stdout",
     "output_type": "stream",
     "text": [
      "Data has been saved to 'New Final' in the existing Excel file.\n"
     ]
    }
   ],
   "source": [
    "import pandas as pd\n",
    "from openpyxl import load_workbook\n",
    "\n",
    "# Load the dataset from Sheet 7\n",
    "file_path = 'Jacksonville cleaned dataset - Utkarsha.xlsx'\n",
    "df_sheet7 = pd.read_excel(file_path, sheet_name='Sheet7')\n",
    "\n",
    "# Define fixed columns and identify insurance columns for melting\n",
    "fixed_columns = ['code|1', 'description', 'standard_charge | gross', 'standard_charge | min', 'standard_charge | max']\n",
    "insurance_columns = [col for col in df_sheet7.columns if col not in fixed_columns]\n",
    "\n",
    "# Reshape the data in Sheet 7\n",
    "df_melted = pd.melt(df_sheet7, id_vars=fixed_columns, value_vars=insurance_columns,\n",
    "                    var_name='Insurance Plan', value_name='standard_charge | negotiated_dollar')\n",
    "\n",
    "# Define payer list and update condition for United_Healthcare\n",
    "payer_list = ['Aetna', 'Cigna', 'Humana', 'Horizon', 'Wellcare', 'United_Healthcare']\n",
    "df_melted['payer_name'] = df_melted['Insurance Plan'].apply(\n",
    "    lambda x: 'United_Healthcare' if 'UHC' in x else next((payer for payer in payer_list if payer in x), 'Other')\n",
    ")\n",
    "df_melted['plan_name'] = df_melted['Insurance Plan'].str.replace(r'standard_charge\\||\\|negotiated_dollar', '', regex=True)\n",
    "\n",
    "# Reorder columns to match the desired format\n",
    "df_final = df_melted[['code|1', 'description', 'standard_charge | gross', 'payer_name', 'plan_name',\n",
    "                      'standard_charge | negotiated_dollar', 'standard_charge | min', 'standard_charge | max']]\n",
    "\n",
    "# Append the transformed DataFrame to the existing Excel file in a new sheet\n",
    "with pd.ExcelWriter(file_path, engine='openpyxl', mode='a') as writer:\n",
    "    df_final.to_excel(writer, sheet_name='New final', index=False)\n",
    "\n",
    "print(\"Data has been saved to 'New Final' in the existing Excel file.\")\n"
   ]
  },
  {
   "cell_type": "code",
   "execution_count": 23,
   "id": "7faf3d74",
   "metadata": {},
   "outputs": [
    {
     "name": "stdout",
     "output_type": "stream",
     "text": [
      "Data has been saved to 'Jacksonville final excel file' with the sheet name 'Transformed_Data'.\n"
     ]
    }
   ],
   "source": [
    "import pandas as pd\n",
    "\n",
    "# Load the dataset from \"Jacksonville cleaned column to row\"\n",
    "input_file_path = 'Jacksonville cleaned dataset column to row.xlsx'  # Replace with the actual path\n",
    "df_sheet = pd.read_excel(input_file_path)\n",
    "\n",
    "# Define fixed columns and identify insurance columns for melting\n",
    "fixed_columns = ['code|1', 'description', 'standard_charge | gross', 'standard_charge | min', 'standard_charge | max']\n",
    "insurance_columns = [col for col in df_sheet.columns if col not in fixed_columns]\n",
    "\n",
    "# Reshape the data\n",
    "df_melted = pd.melt(df_sheet, id_vars=fixed_columns, value_vars=insurance_columns,\n",
    "                    var_name='Insurance Plan', value_name='standard_charge | negotiated_dollar')\n",
    "\n",
    "# Define payer list and update condition for United_Healthcare\n",
    "payer_list = ['Aetna', 'Cigna', 'Humana', 'Horizon', 'Wellcare', 'United_Healthcare']\n",
    "df_melted['payer_name'] = df_melted['Insurance Plan'].apply(\n",
    "    lambda x: 'United_Healthcare' if 'UHC' in x else next((payer for payer in payer_list if payer in x), 'Other')\n",
    ")\n",
    "df_melted['plan_name'] = df_melted['Insurance Plan'].str.replace(r'standard_charge\\||\\|negotiated_dollar', '', regex=True)\n",
    "\n",
    "# Reorder columns to match the desired format\n",
    "df_final = df_melted[['code|1', 'description', 'standard_charge | gross', 'payer_name', 'plan_name',\n",
    "                      'standard_charge | negotiated_dollar', 'standard_charge | min', 'standard_charge | max']]\n",
    "\n",
    "# Save the transformed DataFrame to a new Excel file\n",
    "output_file_path = 'Jacksonville final excel file.xlsx'  # Replace with the actual path\n",
    "with pd.ExcelWriter(output_file_path, engine='openpyxl') as writer:\n",
    "    df_final.to_excel(writer, sheet_name='Transformed_Data', index=False)\n",
    "\n",
    "print(\"Data has been saved to 'Jacksonville final excel file' with the sheet name 'Transformed_Data'.\")\n"
   ]
  },
  {
   "cell_type": "code",
   "execution_count": 26,
   "id": "0cd5563a",
   "metadata": {},
   "outputs": [
    {
     "name": "stdout",
     "output_type": "stream",
     "text": [
      "Data from Sheet 1 has been transformed and saved to 'All rows conversion sheet' in the existing Excel file.\n"
     ]
    }
   ],
   "source": [
    "import pandas as pd\n",
    "from openpyxl import load_workbook\n",
    "\n",
    "# Load the dataset from Sheet 1\n",
    "file_path = 'Jacksonville cleaned dataset - Utkarsha.xlsx'\n",
    "df_sheet1 = pd.read_excel(file_path, sheet_name='Sheet1')\n",
    "\n",
    "# fixed columns and identify insurance columns for melting\n",
    "fixed_columns = ['code|1', 'description', 'standard_charge | gross', 'standard_charge | min', 'standard_charge | max']\n",
    "insurance_columns = [col for col in df_sheet1.columns if col not in fixed_columns]\n",
    "\n",
    "# Reshape the data in Sheet 1\n",
    "df_melted = pd.melt(df_sheet1, id_vars=fixed_columns, value_vars=insurance_columns,\n",
    "                    var_name='Insurance Plan', value_name='standard_charge | negotiated_dollar')\n",
    "\n",
    "# payer list and apply the United_Healthcare condition\n",
    "payer_list = ['Aetna', 'Cigna', 'Humana', 'Horizon', 'Wellcare', 'United_Healthcare']\n",
    "df_melted['payer_name'] = df_melted['Insurance Plan'].apply(\n",
    "    lambda x: 'United_Healthcare' if 'UHC' in x else next((payer for payer in payer_list if payer in x), 'Other')\n",
    ")\n",
    "df_melted['plan_name'] = df_melted['Insurance Plan'].str.replace(r'standard_charge\\||\\|negotiated_dollar', '', regex=True)\n",
    "\n",
    "# Reorder columns to match the desired format\n",
    "df_final = df_melted[['code|1', 'description', 'standard_charge | gross', 'payer_name', 'plan_name',\n",
    "                      'standard_charge | negotiated_dollar', 'standard_charge | min', 'standard_charge | max']]\n",
    "\n",
    "# Append the transformed DataFrame to the existing Excel file as \"Total conversion sheet\"\n",
    "with pd.ExcelWriter(file_path, engine='openpyxl', mode='a') as writer:\n",
    "    df_final.to_excel(writer, sheet_name='All rows conversion sheet', index=False)\n",
    "\n",
    "print(\"Data from Sheet 1 has been transformed and saved to 'All rows conversion sheet' in the existing Excel file.\")\n"
   ]
  },
  {
   "cell_type": "code",
   "execution_count": 27,
   "id": "1378a232",
   "metadata": {},
   "outputs": [
    {
     "name": "stdout",
     "output_type": "stream",
     "text": [
      "Data from Sheet 1 has been transformed for each code and saved to 'All conversion sheet' in the existing Excel file.\n"
     ]
    }
   ],
   "source": [
    "\n",
    "import pandas as pd\n",
    "from openpyxl import load_workbook\n",
    "\n",
    "# Load the dataset from Sheet 1\n",
    "file_path = 'Jacksonville cleaned dataset - Utkarsha.xlsx'\n",
    "df_sheet1 = pd.read_excel(file_path, sheet_name='Sheet1')\n",
    "\n",
    "# Define fixed columns and identify insurance columns for melting\n",
    "fixed_columns = ['code|1', 'description', 'standard_charge | gross', 'standard_charge | min', 'standard_charge | max']\n",
    "insurance_columns = [col for col in df_sheet1.columns if col not in fixed_columns]\n",
    "\n",
    "# Create an empty list to collect all transformed rows\n",
    "total_converted_rows = []\n",
    "\n",
    "# Process each row in Sheet 1\n",
    "for _, row in df_sheet1.iterrows():\n",
    "    # Create a DataFrame for the current row with insurance columns\n",
    "    df_row = pd.DataFrame([row[fixed_columns + insurance_columns].values], columns=fixed_columns + insurance_columns)\n",
    "    \n",
    "    # Melt the DataFrame to reshape the data into long format\n",
    "    df_melted = pd.melt(df_row, id_vars=fixed_columns, value_vars=insurance_columns,\n",
    "                        var_name='Insurance Plan', value_name='standard_charge | negotiated_dollar')\n",
    "    \n",
    "    # Define payer list and apply United_Healthcare condition\n",
    "    payer_list = ['Aetna', 'Cigna', 'Humana', 'Horizon', 'Wellcare', 'United_Healthcare']\n",
    "    df_melted['payer_name'] = df_melted['Insurance Plan'].apply(\n",
    "        lambda x: 'United_Healthcare' if 'UHC' in x else next((payer for payer in payer_list if payer in x), 'Other')\n",
    "    )\n",
    "    df_melted['plan_name'] = df_melted['Insurance Plan'].str.replace(r'standard_charge\\||\\|negotiated_dollar', '', regex=True)\n",
    "    \n",
    "    # Reorder columns to match the desired format and append to the list\n",
    "    df_final = df_melted[['code|1', 'description', 'standard_charge | gross', 'payer_name', 'plan_name',\n",
    "                          'standard_charge | negotiated_dollar', 'standard_charge | min', 'standard_charge | max']]\n",
    "    total_converted_rows.append(df_final)\n",
    "\n",
    "# Concatenate all converted rows into a single DataFrame\n",
    "df_total_conversion = pd.concat(total_converted_rows, ignore_index=True)\n",
    "\n",
    "# Save the consolidated DataFrame to the existing Excel file as \"Total conversion sheet\"\n",
    "with pd.ExcelWriter(file_path, engine='openpyxl', mode='a') as writer:\n",
    "    df_total_conversion.to_excel(writer, sheet_name='All conversion sheet', index=False)\n",
    "\n",
    "print(\"Data from Sheet 1 has been transformed for each code and saved to 'All conversion sheet' in the existing Excel file.\")\n"
   ]
  },
  {
   "cell_type": "code",
   "execution_count": 28,
   "id": "9f5e4aaf",
   "metadata": {},
   "outputs": [
    {
     "name": "stdout",
     "output_type": "stream",
     "text": [
      "Data from Sheet 1 has been transformed for each code and saved to 'All conversions final' in the existing Excel file.\n"
     ]
    }
   ],
   "source": [
    "### This is the final code to be considered for converting from columns to rows for Jacksonville dataset\n",
    "import pandas as pd\n",
    "from openpyxl import load_workbook\n",
    "\n",
    "# Load the dataset from Sheet 1\n",
    "file_path = 'Jacksonville cleaned dataset - Utkarsha.xlsx'\n",
    "df_sheet1 = pd.read_excel(file_path, sheet_name='Sheet1')\n",
    "\n",
    "# Define fixed columns and identify insurance columns for melting\n",
    "fixed_columns = ['code|1', 'description', 'standard_charge | gross', 'standard_charge | min', 'standard_charge | max']\n",
    "insurance_columns = [col for col in df_sheet1.columns if col not in fixed_columns]\n",
    "\n",
    "# Create an empty list to collect all transformed rows\n",
    "total_converted_rows = []\n",
    "\n",
    "# Process each row in Sheet 1\n",
    "for _, row in df_sheet1.iterrows():\n",
    "    # Create a DataFrame for the current row with insurance columns\n",
    "    df_row = pd.DataFrame([row[fixed_columns + insurance_columns].values], columns=fixed_columns + insurance_columns)\n",
    "    \n",
    "    # Melt the DataFrame to reshape the data into long format\n",
    "    df_melted = pd.melt(df_row, id_vars=fixed_columns, value_vars=insurance_columns,\n",
    "                        var_name='Insurance Plan', value_name='standard_charge | negotiated_dollar')\n",
    "    \n",
    "    # Define payer list and update condition for each payer name, including Wellcare\n",
    "    payer_list = ['Aetna', 'Cigna', 'Humana', 'Horizon', 'Wellcare', 'United_Healthcare']\n",
    "    df_melted['payer_name'] = df_melted['Insurance Plan'].apply(\n",
    "        lambda x: 'United_Healthcare' if 'UHC' in x else \n",
    "                  next((payer for payer in payer_list if payer.lower() in x.lower()), 'Other')\n",
    "    )\n",
    "    df_melted['plan_name'] = df_melted['Insurance Plan'].str.replace(r'standard_charge\\||\\|negotiated_dollar', '', regex=True)\n",
    "    \n",
    "    # Reorder columns to match the desired format and append to the list\n",
    "    df_final = df_melted[['code|1', 'description', 'standard_charge | gross', 'payer_name', 'plan_name',\n",
    "                          'standard_charge | negotiated_dollar', 'standard_charge | min', 'standard_charge | max']]\n",
    "    total_converted_rows.append(df_final)\n",
    "\n",
    "# Concatenate all converted rows into a single DataFrame\n",
    "df_total_conversion = pd.concat(total_converted_rows, ignore_index=True)\n",
    "\n",
    "# Save the consolidated DataFrame to the existing Excel file as \"Total conversion sheet\"\n",
    "with pd.ExcelWriter(file_path, engine='openpyxl', mode='a') as writer:\n",
    "    df_total_conversion.to_excel(writer, sheet_name='All conversions final', index=False)\n",
    "\n",
    "print(\"Data from Sheet 1 has been transformed for each code and saved to 'All conversions final' in the existing Excel file.\")\n"
   ]
  },
  {
   "cell_type": "code",
   "execution_count": 29,
   "id": "c1a8d66e",
   "metadata": {},
   "outputs": [
    {
     "ename": "ValueError",
     "evalue": "This sheet is too large! Your sheet size is: 4483325, 8 Max sheet size is: 1048576, 16384",
     "output_type": "error",
     "traceback": [
      "\u001b[1;31m---------------------------------------------------------------------------\u001b[0m",
      "\u001b[1;31mValueError\u001b[0m                                Traceback (most recent call last)",
      "Cell \u001b[1;32mIn[29], line 42\u001b[0m\n\u001b[0;32m     40\u001b[0m \u001b[38;5;66;03m# Save the consolidated DataFrame to the existing Excel file as \"final conversion\"\u001b[39;00m\n\u001b[0;32m     41\u001b[0m \u001b[38;5;28;01mwith\u001b[39;00m pd\u001b[38;5;241m.\u001b[39mExcelWriter(file_path, engine\u001b[38;5;241m=\u001b[39m\u001b[38;5;124m'\u001b[39m\u001b[38;5;124mopenpyxl\u001b[39m\u001b[38;5;124m'\u001b[39m, mode\u001b[38;5;241m=\u001b[39m\u001b[38;5;124m'\u001b[39m\u001b[38;5;124ma\u001b[39m\u001b[38;5;124m'\u001b[39m) \u001b[38;5;28;01mas\u001b[39;00m writer:\n\u001b[1;32m---> 42\u001b[0m     df_final_conversion\u001b[38;5;241m.\u001b[39mto_excel(writer, sheet_name\u001b[38;5;241m=\u001b[39m\u001b[38;5;124m'\u001b[39m\u001b[38;5;124mfinal conversion\u001b[39m\u001b[38;5;124m'\u001b[39m, index\u001b[38;5;241m=\u001b[39m\u001b[38;5;28;01mFalse\u001b[39;00m)\n\u001b[0;32m     44\u001b[0m \u001b[38;5;28mprint\u001b[39m(\u001b[38;5;124m\"\u001b[39m\u001b[38;5;124mData from Springfield_final has been transformed for each code and saved to \u001b[39m\u001b[38;5;124m'\u001b[39m\u001b[38;5;124mfinal conversion\u001b[39m\u001b[38;5;124m'\u001b[39m\u001b[38;5;124m in the existing Excel file.\u001b[39m\u001b[38;5;124m\"\u001b[39m)\n",
      "File \u001b[1;32m~\\anaconda\\Lib\\site-packages\\pandas\\util\\_decorators.py:211\u001b[0m, in \u001b[0;36mdeprecate_kwarg.<locals>._deprecate_kwarg.<locals>.wrapper\u001b[1;34m(*args, **kwargs)\u001b[0m\n\u001b[0;32m    209\u001b[0m     \u001b[38;5;28;01melse\u001b[39;00m:\n\u001b[0;32m    210\u001b[0m         kwargs[new_arg_name] \u001b[38;5;241m=\u001b[39m new_arg_value\n\u001b[1;32m--> 211\u001b[0m \u001b[38;5;28;01mreturn\u001b[39;00m func(\u001b[38;5;241m*\u001b[39margs, \u001b[38;5;241m*\u001b[39m\u001b[38;5;241m*\u001b[39mkwargs)\n",
      "File \u001b[1;32m~\\anaconda\\Lib\\site-packages\\pandas\\util\\_decorators.py:211\u001b[0m, in \u001b[0;36mdeprecate_kwarg.<locals>._deprecate_kwarg.<locals>.wrapper\u001b[1;34m(*args, **kwargs)\u001b[0m\n\u001b[0;32m    209\u001b[0m     \u001b[38;5;28;01melse\u001b[39;00m:\n\u001b[0;32m    210\u001b[0m         kwargs[new_arg_name] \u001b[38;5;241m=\u001b[39m new_arg_value\n\u001b[1;32m--> 211\u001b[0m \u001b[38;5;28;01mreturn\u001b[39;00m func(\u001b[38;5;241m*\u001b[39margs, \u001b[38;5;241m*\u001b[39m\u001b[38;5;241m*\u001b[39mkwargs)\n",
      "File \u001b[1;32m~\\anaconda\\Lib\\site-packages\\pandas\\core\\generic.py:2374\u001b[0m, in \u001b[0;36mNDFrame.to_excel\u001b[1;34m(self, excel_writer, sheet_name, na_rep, float_format, columns, header, index, index_label, startrow, startcol, engine, merge_cells, encoding, inf_rep, verbose, freeze_panes, storage_options)\u001b[0m\n\u001b[0;32m   2361\u001b[0m \u001b[38;5;28;01mfrom\u001b[39;00m \u001b[38;5;21;01mpandas\u001b[39;00m\u001b[38;5;21;01m.\u001b[39;00m\u001b[38;5;21;01mio\u001b[39;00m\u001b[38;5;21;01m.\u001b[39;00m\u001b[38;5;21;01mformats\u001b[39;00m\u001b[38;5;21;01m.\u001b[39;00m\u001b[38;5;21;01mexcel\u001b[39;00m \u001b[38;5;28;01mimport\u001b[39;00m ExcelFormatter\n\u001b[0;32m   2363\u001b[0m formatter \u001b[38;5;241m=\u001b[39m ExcelFormatter(\n\u001b[0;32m   2364\u001b[0m     df,\n\u001b[0;32m   2365\u001b[0m     na_rep\u001b[38;5;241m=\u001b[39mna_rep,\n\u001b[1;32m   (...)\u001b[0m\n\u001b[0;32m   2372\u001b[0m     inf_rep\u001b[38;5;241m=\u001b[39minf_rep,\n\u001b[0;32m   2373\u001b[0m )\n\u001b[1;32m-> 2374\u001b[0m formatter\u001b[38;5;241m.\u001b[39mwrite(\n\u001b[0;32m   2375\u001b[0m     excel_writer,\n\u001b[0;32m   2376\u001b[0m     sheet_name\u001b[38;5;241m=\u001b[39msheet_name,\n\u001b[0;32m   2377\u001b[0m     startrow\u001b[38;5;241m=\u001b[39mstartrow,\n\u001b[0;32m   2378\u001b[0m     startcol\u001b[38;5;241m=\u001b[39mstartcol,\n\u001b[0;32m   2379\u001b[0m     freeze_panes\u001b[38;5;241m=\u001b[39mfreeze_panes,\n\u001b[0;32m   2380\u001b[0m     engine\u001b[38;5;241m=\u001b[39mengine,\n\u001b[0;32m   2381\u001b[0m     storage_options\u001b[38;5;241m=\u001b[39mstorage_options,\n\u001b[0;32m   2382\u001b[0m )\n",
      "File \u001b[1;32m~\\anaconda\\Lib\\site-packages\\pandas\\io\\formats\\excel.py:933\u001b[0m, in \u001b[0;36mExcelFormatter.write\u001b[1;34m(self, writer, sheet_name, startrow, startcol, freeze_panes, engine, storage_options)\u001b[0m\n\u001b[0;32m    931\u001b[0m num_rows, num_cols \u001b[38;5;241m=\u001b[39m \u001b[38;5;28mself\u001b[39m\u001b[38;5;241m.\u001b[39mdf\u001b[38;5;241m.\u001b[39mshape\n\u001b[0;32m    932\u001b[0m \u001b[38;5;28;01mif\u001b[39;00m num_rows \u001b[38;5;241m>\u001b[39m \u001b[38;5;28mself\u001b[39m\u001b[38;5;241m.\u001b[39mmax_rows \u001b[38;5;129;01mor\u001b[39;00m num_cols \u001b[38;5;241m>\u001b[39m \u001b[38;5;28mself\u001b[39m\u001b[38;5;241m.\u001b[39mmax_cols:\n\u001b[1;32m--> 933\u001b[0m     \u001b[38;5;28;01mraise\u001b[39;00m \u001b[38;5;167;01mValueError\u001b[39;00m(\n\u001b[0;32m    934\u001b[0m         \u001b[38;5;124mf\u001b[39m\u001b[38;5;124m\"\u001b[39m\u001b[38;5;124mThis sheet is too large! Your sheet size is: \u001b[39m\u001b[38;5;132;01m{\u001b[39;00mnum_rows\u001b[38;5;132;01m}\u001b[39;00m\u001b[38;5;124m, \u001b[39m\u001b[38;5;132;01m{\u001b[39;00mnum_cols\u001b[38;5;132;01m}\u001b[39;00m\u001b[38;5;124m \u001b[39m\u001b[38;5;124m\"\u001b[39m\n\u001b[0;32m    935\u001b[0m         \u001b[38;5;124mf\u001b[39m\u001b[38;5;124m\"\u001b[39m\u001b[38;5;124mMax sheet size is: \u001b[39m\u001b[38;5;132;01m{\u001b[39;00m\u001b[38;5;28mself\u001b[39m\u001b[38;5;241m.\u001b[39mmax_rows\u001b[38;5;132;01m}\u001b[39;00m\u001b[38;5;124m, \u001b[39m\u001b[38;5;132;01m{\u001b[39;00m\u001b[38;5;28mself\u001b[39m\u001b[38;5;241m.\u001b[39mmax_cols\u001b[38;5;132;01m}\u001b[39;00m\u001b[38;5;124m\"\u001b[39m\n\u001b[0;32m    936\u001b[0m     )\n\u001b[0;32m    938\u001b[0m formatted_cells \u001b[38;5;241m=\u001b[39m \u001b[38;5;28mself\u001b[39m\u001b[38;5;241m.\u001b[39mget_formatted_cells()\n\u001b[0;32m    939\u001b[0m \u001b[38;5;28;01mif\u001b[39;00m \u001b[38;5;28misinstance\u001b[39m(writer, ExcelWriter):\n",
      "\u001b[1;31mValueError\u001b[0m: This sheet is too large! Your sheet size is: 4483325, 8 Max sheet size is: 1048576, 16384"
     ]
    }
   ],
   "source": [
    "import pandas as pd\n",
    "from openpyxl import load_workbook\n",
    "\n",
    "# Load the dataset from Springfield_final\n",
    "file_path = 'Springfield_final.xlsx'  # Replace with the actual path to Springfield_final\n",
    "df_springfield = pd.read_excel(file_path, sheet_name='Sheet1')\n",
    "\n",
    "# Define fixed columns and identify insurance columns for melting\n",
    "fixed_columns = ['code|1', 'description', 'standard_charge | gross', 'standard_charge | min', 'standard_charge | max']\n",
    "insurance_columns = [col for col in df_springfield.columns if col not in fixed_columns]\n",
    "\n",
    "# Create an empty list to collect all transformed rows\n",
    "total_converted_rows = []\n",
    "\n",
    "# Process each row in Springfield_final\n",
    "for _, row in df_springfield.iterrows():\n",
    "    # Create a DataFrame for the current row with insurance columns\n",
    "    df_row = pd.DataFrame([row[fixed_columns + insurance_columns].values], columns=fixed_columns + insurance_columns)\n",
    "    \n",
    "    # Melt the DataFrame to reshape the data into long format\n",
    "    df_melted = pd.melt(df_row, id_vars=fixed_columns, value_vars=insurance_columns,\n",
    "                        var_name='Insurance Plan', value_name='standard_charge | negotiated_dollar')\n",
    "    \n",
    "    # Define payer list and apply United_Healthcare condition\n",
    "    payer_list = ['Aetna', 'Cigna', 'Humana', 'Horizon', 'Wellcare', 'United_Healthcare']\n",
    "    df_melted['payer_name'] = df_melted['Insurance Plan'].apply(\n",
    "        lambda x: 'United_Healthcare' if 'UHC' in x else \n",
    "                  next((payer for payer in payer_list if payer.lower() in x.lower()), 'Other')\n",
    "    )\n",
    "    df_melted['plan_name'] = df_melted['Insurance Plan'].str.replace(r'standard_charge\\||\\|negotiated_dollar', '', regex=True)\n",
    "    \n",
    "    # Reorder columns to match the desired format and append to the list\n",
    "    df_final = df_melted[['code|1', 'description', 'standard_charge | gross', 'payer_name', 'plan_name',\n",
    "                          'standard_charge | negotiated_dollar', 'standard_charge | min', 'standard_charge | max']]\n",
    "    total_converted_rows.append(df_final)\n",
    "\n",
    "# Concatenate all converted rows into a single DataFrame\n",
    "df_final_conversion = pd.concat(total_converted_rows, ignore_index=True)\n",
    "\n",
    "# Save the consolidated DataFrame to the existing Excel file as \"final conversion\"\n",
    "with pd.ExcelWriter(file_path, engine='openpyxl', mode='a') as writer:\n",
    "    df_final_conversion.to_excel(writer, sheet_name='final conversion', index=False)\n",
    "\n",
    "print(\"Data from Springfield_final has been transformed for each code and saved to 'final conversion' in the existing Excel file.\")\n"
   ]
  },
  {
   "cell_type": "code",
   "execution_count": 1,
   "id": "54e00a93",
   "metadata": {},
   "outputs": [
    {
     "name": "stdout",
     "output_type": "stream",
     "text": [
      "Data from Springfield_final has been transformed for each code and saved to 'Springfield_final_conversion.csv'.\n"
     ]
    }
   ],
   "source": [
    "### This is the final code to be considered for converting from columns to rows for Springfield dataset\n",
    "import pandas as pd\n",
    "\n",
    "# Load the dataset from Springfield_final\n",
    "file_path = 'Springfield_final.xlsx'  # Replace with the actual path to Springfield_final\n",
    "df_springfield = pd.read_excel(file_path, sheet_name='Sheet1')\n",
    "\n",
    "# Define fixed columns and identify insurance columns for melting\n",
    "fixed_columns = ['code|1', 'description', 'standard_charge | gross', 'standard_charge | min', 'standard_charge | max']\n",
    "insurance_columns = [col for col in df_springfield.columns if col not in fixed_columns]\n",
    "\n",
    "# Create an empty list to collect all transformed rows\n",
    "total_converted_rows = []\n",
    "\n",
    "# Process each row in Springfield_final\n",
    "for _, row in df_springfield.iterrows():\n",
    "    # Create a DataFrame for the current row with insurance columns\n",
    "    df_row = pd.DataFrame([row[fixed_columns + insurance_columns].values], columns=fixed_columns + insurance_columns)\n",
    "    \n",
    "    # Melt the DataFrame to reshape the data into long format\n",
    "    df_melted = pd.melt(df_row, id_vars=fixed_columns, value_vars=insurance_columns,\n",
    "                        var_name='Insurance Plan', value_name='standard_charge | negotiated_dollar')\n",
    "    \n",
    "    # Define payer list and apply United_Healthcare condition\n",
    "    payer_list = ['Aetna', 'Cigna', 'Humana', 'Horizon', 'Wellcare', 'United_Healthcare']\n",
    "    df_melted['payer_name'] = df_melted['Insurance Plan'].apply(\n",
    "        lambda x: 'United_Healthcare' if 'UHC' in x else \n",
    "                  next((payer for payer in payer_list if payer.lower() in x.lower()), 'Other')\n",
    "    )\n",
    "    df_melted['plan_name'] = df_melted['Insurance Plan'].str.replace(r'standard_charge\\||\\|negotiated_dollar', '', regex=True)\n",
    "    \n",
    "    # Reorder columns to match the desired format and append to the list\n",
    "    df_final = df_melted[['code|1', 'description', 'standard_charge | gross', 'payer_name', 'plan_name',\n",
    "                          'standard_charge | negotiated_dollar', 'standard_charge | min', 'standard_charge | max']]\n",
    "    total_converted_rows.append(df_final)\n",
    "\n",
    "# Concatenate all converted rows into a single DataFrame\n",
    "df_final_conversion = pd.concat(total_converted_rows, ignore_index=True)\n",
    "\n",
    "# Save the consolidated DataFrame to a CSV file instead\n",
    "csv_output_path = 'Springfield_final_conversion.csv'  # Specify the path for the CSV output\n",
    "df_final_conversion.to_csv(csv_output_path, index=False)\n",
    "\n",
    "print(\"Data from Springfield_final has been transformed for each code and saved to 'Springfield_final_conversion.csv'.\")\n"
   ]
  },
  {
   "cell_type": "code",
   "execution_count": null,
   "id": "62d6df1f",
   "metadata": {},
   "outputs": [],
   "source": []
  }
 ],
 "metadata": {
  "kernelspec": {
   "display_name": "Python 3 (ipykernel)",
   "language": "python",
   "name": "python3"
  },
  "language_info": {
   "codemirror_mode": {
    "name": "ipython",
    "version": 3
   },
   "file_extension": ".py",
   "mimetype": "text/x-python",
   "name": "python",
   "nbconvert_exporter": "python",
   "pygments_lexer": "ipython3",
   "version": "3.11.4"
  }
 },
 "nbformat": 4,
 "nbformat_minor": 5
}

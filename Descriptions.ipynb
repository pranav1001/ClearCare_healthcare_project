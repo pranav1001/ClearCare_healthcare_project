{
 "cells": [
  {
   "cell_type": "code",
   "execution_count": 4,
   "id": "cc664195",
   "metadata": {},
   "outputs": [
    {
     "name": "stdout",
     "output_type": "stream",
     "text": [
      "Similarity Percentage: 73.64%\n"
     ]
    }
   ],
   "source": [
    "import pandas as pd\n",
    "from openpyxl import load_workbook\n",
    "from openpyxl.styles import PatternFill\n",
    "\n",
    "# Load the Excel file\n",
    "file_path = 'codes_with_descriptions.xlsx'  # Update this with your actual file path\n",
    "sheet1_name = 'Sheet1'\n",
    "sheet2_name = 'Sheet2'\n",
    "\n",
    "# Read both sheets\n",
    "df1 = pd.read_excel(file_path, sheet_name=sheet1_name)\n",
    "df2 = pd.read_excel(file_path, sheet_name=sheet2_name)\n",
    "\n",
    "# Assuming columns 'A' in both sheets contain the codes\n",
    "sheet1_codes = df1['CODES']  \n",
    "sheet2_codes = df2['CODES']  \n",
    "\n",
    "# Find codes that are in Sheet2 but not in Sheet1\n",
    "not_found_codes_in_sheet2 = sheet2_codes[~sheet2_codes.isin(sheet1_codes)]\n",
    "\n",
    "# Load the workbook and select the active worksheet for Sheet2\n",
    "wb = load_workbook(file_path)\n",
    "ws = wb[sheet2_name]\n",
    "\n",
    "# Create a fill color for highlighting the not-found codes\n",
    "highlight_fill = PatternFill(start_color=\"FFFF00\", end_color=\"FFFF00\", fill_type=\"solid\")\n",
    "\n",
    "# Highlight the not-found codes in Sheet2\n",
    "for index, code in not_found_codes_in_sheet2.items():\n",
    "    cell = ws[f'A{index + 2}']  # Adjust index for 1-based Excel indexing\n",
    "    cell.fill = highlight_fill\n",
    "\n",
    "# Calculate the similarity percentage\n",
    "matching_codes = sheet1_codes[sheet1_codes.isin(sheet2_codes)]\n",
    "similarity_percentage = (len(matching_codes) / len(sheet1_codes)) * 100\n",
    "\n",
    "# Save the highlighted version as a new Excel file\n",
    "output_file = 'highlighted_codes_not_found_sheet2.xlsx'\n",
    "wb.save(output_file)\n",
    "\n",
    "# Print the similarity percentage\n",
    "print(f\"Similarity Percentage: {similarity_percentage:.2f}%\")\n"
   ]
  },
  {
   "cell_type": "code",
   "execution_count": 5,
   "id": "0e683705",
   "metadata": {},
   "outputs": [
    {
     "name": "stdout",
     "output_type": "stream",
     "text": [
      "Descriptions from Original sheet have been copied to Sheet3 based on matching codes.\n"
     ]
    }
   ],
   "source": [
    "import pandas as pd\n",
    "from openpyxl import load_workbook\n",
    "\n",
    "# Load the Excel file\n",
    "file_path = 'codes comparison for description.xlsx'  \n",
    "sheet_original_name = 'Original'  \n",
    "sheet3_name = 'Sheet3'  \n",
    "\n",
    "# Read the sheets\n",
    "df_original = pd.read_excel(file_path, sheet_name=sheet_original_name)\n",
    "df_sheet3 = pd.read_excel(file_path, sheet_name=sheet3_name)\n",
    "\n",
    "# Load the workbook to edit directly in the Excel file\n",
    "wb = load_workbook(file_path)\n",
    "ws_sheet3 = wb[sheet3_name]\n",
    "\n",
    "# Assuming column A contains the codes and column B contains the descriptions in the original sheet\n",
    "original_codes = df_original['CODES']  \n",
    "original_descriptions = df_original['DESCRIPTION']  \n",
    "\n",
    "# Assuming column A in Sheet3 contains the codes to be compared\n",
    "sheet3_codes = df_sheet3['CODES']  # Replace 'A' with the actual column name for codes\n",
    "\n",
    "# Loop through Sheet3 and if a code is found in the original sheet, paste the corresponding description in Sheet3 column B\n",
    "for index, code in enumerate(sheet3_codes):\n",
    "    if code in original_codes.values:\n",
    "        description = original_descriptions[original_codes == code].values[0]  # Get corresponding description\n",
    "        ws_sheet3[f'B{index + 2}'] = description  # Write the description in Sheet3, column B\n",
    "\n",
    "# Save the workbook without creating a new file\n",
    "wb.save(file_path)\n",
    "\n",
    "print(\"Descriptions from Original sheet have been copied to Sheet3 based on matching codes.\")\n"
   ]
  },
  {
   "cell_type": "code",
   "execution_count": null,
   "id": "d643b23b",
   "metadata": {},
   "outputs": [],
   "source": []
  }
 ],
 "metadata": {
  "kernelspec": {
   "display_name": "Python 3 (ipykernel)",
   "language": "python",
   "name": "python3"
  },
  "language_info": {
   "codemirror_mode": {
    "name": "ipython",
    "version": 3
   },
   "file_extension": ".py",
   "mimetype": "text/x-python",
   "name": "python",
   "nbconvert_exporter": "python",
   "pygments_lexer": "ipython3",
   "version": "3.11.4"
  }
 },
 "nbformat": 4,
 "nbformat_minor": 5
}

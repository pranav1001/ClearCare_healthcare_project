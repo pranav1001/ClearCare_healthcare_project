{
 "cells": [
  {
   "cell_type": "code",
   "execution_count": 2,
   "id": "efbbb82b",
   "metadata": {},
   "outputs": [
    {
     "name": "stdout",
     "output_type": "stream",
     "text": [
      "Cleaned dataset saved to: Jacksonville cleaned dataset.xlsx\n"
     ]
    }
   ],
   "source": [
    "import pandas as pd\n",
    "\n",
    "# Load the two Excel files\n",
    "non_cpt_codes_path = 'non cpt codes.xlsx'  # Update this with your actual file path\n",
    "jacksonville_hospital_path = 'Jacksonville_Memorial_Hospital.xlsx'  # Update this with your actual file path\n",
    "\n",
    "# Read the 'Jacksonville' column from non cpt codes\n",
    "non_cpt_df = pd.read_excel(non_cpt_codes_path)\n",
    "jacksonville_values = non_cpt_df['Jacksonville'].dropna()\n",
    "\n",
    "# Read the Jacksonville Memorial Hospital dataset\n",
    "hospital_df = pd.read_excel(jacksonville_hospital_path)\n",
    "\n",
    "# Filter out rows in the hospital dataset where column 'A' matches any value in the Jacksonville column from non cpt codes\n",
    "# Assuming 'A' is the first column in the hospital dataset\n",
    "cleaned_hospital_df = hospital_df[~hospital_df.iloc[:, 0].isin(jacksonville_values)]\n",
    "\n",
    "# Save the cleaned dataset to a new Excel file\n",
    "cleaned_output_path = 'Jacksonville cleaned dataset.xlsx'\n",
    "cleaned_hospital_df.to_excel(cleaned_output_path, index=False)\n",
    "\n",
    "print(f\"Cleaned dataset saved to: {cleaned_output_path}\")\n"
   ]
  },
  {
   "cell_type": "code",
   "execution_count": 7,
   "id": "c4985712",
   "metadata": {},
   "outputs": [
    {
     "name": "stdout",
     "output_type": "stream",
     "text": [
      "Cleaned dataset saved to: Morristown cleaned dataset.xlsx\n"
     ]
    }
   ],
   "source": [
    "import pandas as pd\n",
    "\n",
    "# Load the two Excel files\n",
    "non_cpt_codes_path = 'non cpt codes.xlsx'  # Update this with your actual file path\n",
    "morristown_hospital_path = 'Morristown.xlsx'  # Update this with your actual file path\n",
    "\n",
    "# Read the 'M' column from non cpt codes\n",
    "non_cpt_df = pd.read_excel(non_cpt_codes_path)\n",
    "morristown_values = non_cpt_df['Morristown'].dropna()\n",
    "\n",
    "# Read the Jacksonville Memorial Hospital dataset\n",
    "hospital_df = pd.read_excel(morristown_hospital_path)\n",
    "\n",
    "# Filter out rows in the hospital dataset where column 'A' matches any value in the Jacksonville column from non cpt codes\n",
    "# Assuming 'A' is the first column in the hospital dataset\n",
    "cleaned_hospital_df = hospital_df[~hospital_df.iloc[:, 0].isin(morristown_values)]\n",
    "\n",
    "# Save the cleaned dataset to a new Excel file\n",
    "cleaned_output_path = 'Morristown cleaned dataset.xlsx'\n",
    "cleaned_hospital_df.to_excel(cleaned_output_path, index=False)\n",
    "\n",
    "print(f\"Cleaned dataset saved to: {cleaned_output_path}\")"
   ]
  },
  {
   "cell_type": "code",
   "execution_count": null,
   "id": "f4a30ce7",
   "metadata": {},
   "outputs": [],
   "source": [
    "import pandas as pd\n",
    "\n",
    "# Load the two Excel files\n",
    "non_cpt_codes_path = 'non cpt codes.xlsx'  # Update this with your actual file path\n",
    "morristown_hospital_path = 'Ocean.xlsx'  # Update this with your actual file path\n",
    "\n",
    "# Read the 'Morristown' column from non cpt codes\n",
    "non_cpt_df = pd.read_excel(non_cpt_codes_path)\n",
    "morristown_values = non_cpt_df['Morristown'].dropna()\n",
    "\n",
    "# Read the Morristown Hospital dataset\n",
    "hospital_df = pd.read_excel(morristown_hospital_path)\n",
    "\n",
    "# Filter out rows in the hospital dataset where column 'A' matches any value in the Jacksonville column from non cpt codes\n",
    "# Assuming 'A' is the first column in the hospital dataset\n",
    "cleaned_hospital_df = hospital_df[~hospital_df.iloc[:, 0].isin(morristown_values)]\n",
    "\n",
    "# Save the cleaned dataset to a new Excel file\n",
    "cleaned_output_path = 'Morristown cleaned dataset.xlsx'\n",
    "cleaned_hospital_df.to_excel(cleaned_output_path, index=False)\n",
    "\n",
    "print(f\"Cleaned dataset saved to: {cleaned_output_path}\")"
   ]
  }
 ],
 "metadata": {
  "kernelspec": {
   "display_name": "Python 3 (ipykernel)",
   "language": "python",
   "name": "python3"
  },
  "language_info": {
   "codemirror_mode": {
    "name": "ipython",
    "version": 3
   },
   "file_extension": ".py",
   "mimetype": "text/x-python",
   "name": "python",
   "nbconvert_exporter": "python",
   "pygments_lexer": "ipython3",
   "version": "3.11.4"
  }
 },
 "nbformat": 4,
 "nbformat_minor": 5
}

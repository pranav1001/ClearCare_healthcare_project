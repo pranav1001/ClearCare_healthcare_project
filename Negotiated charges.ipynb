{
 "cells": [
  {
   "cell_type": "code",
   "execution_count": 3,
   "id": "98d9c5f2",
   "metadata": {},
   "outputs": [],
   "source": [
    "###Run this code - Code to fill payer_id\n",
    "import pandas as pd\n",
    "\n",
    "# Load the Excel file and specify the sheet name\n",
    "file_path = 'Jacksonville_Negotiation_Charges.xlsx'\n",
    "df = pd.read_excel(file_path, sheet_name='Sheet1')\n",
    "\n",
    "# Define the payer_name to payer_id mapping\n",
    "payer_mapping = {\n",
    "    'Aetna': 1,\n",
    "    'Cigna': 2,\n",
    "    'Humana': 3,\n",
    "    'Horizon': 4,\n",
    "    'Wellcare': 5,\n",
    "    'United_Healthcare': 6\n",
    "}\n",
    "\n",
    "# Map the payer_name column to payer_id\n",
    "df['payer_id'] = df['payer_name'].map(payer_mapping)\n",
    "\n",
    "# Save the modified dataframe to a new sheet 'Sheet2' in the same Excel file\n",
    "with pd.ExcelWriter(file_path, mode='a', engine='openpyxl') as writer:\n",
    "    df.to_excel(writer, sheet_name='Sheet2', index=False)\n"
   ]
  },
  {
   "cell_type": "code",
   "execution_count": 4,
   "id": "869d1318",
   "metadata": {},
   "outputs": [
    {
     "ename": "KeyError",
     "evalue": "\"None of [Index(['B', 'A'], dtype='object')] are in the [columns]\"",
     "output_type": "error",
     "traceback": [
      "\u001b[1;31m---------------------------------------------------------------------------\u001b[0m",
      "\u001b[1;31mKeyError\u001b[0m                                  Traceback (most recent call last)",
      "Cell \u001b[1;32mIn[4], line 12\u001b[0m\n\u001b[0;32m      8\u001b[0m plan_names_df \u001b[38;5;241m=\u001b[39m pd\u001b[38;5;241m.\u001b[39mread_excel(file_path, sheet_name\u001b[38;5;241m=\u001b[39m\u001b[38;5;124m'\u001b[39m\u001b[38;5;124mPlan names\u001b[39m\u001b[38;5;124m'\u001b[39m)\n\u001b[0;32m     10\u001b[0m \u001b[38;5;66;03m# Merge the two dataframes on the 'B' column, where B is the common column\u001b[39;00m\n\u001b[0;32m     11\u001b[0m \u001b[38;5;66;03m# We're using 'left' join to keep all rows from Sheet3 and match only where possible with Plan names\u001b[39;00m\n\u001b[1;32m---> 12\u001b[0m merged_df \u001b[38;5;241m=\u001b[39m sheet3_df\u001b[38;5;241m.\u001b[39mmerge(plan_names_df[[\u001b[38;5;124m'\u001b[39m\u001b[38;5;124mB\u001b[39m\u001b[38;5;124m'\u001b[39m, \u001b[38;5;124m'\u001b[39m\u001b[38;5;124mA\u001b[39m\u001b[38;5;124m'\u001b[39m]], left_on\u001b[38;5;241m=\u001b[39m\u001b[38;5;124m'\u001b[39m\u001b[38;5;124mB\u001b[39m\u001b[38;5;124m'\u001b[39m, right_on\u001b[38;5;241m=\u001b[39m\u001b[38;5;124m'\u001b[39m\u001b[38;5;124mB\u001b[39m\u001b[38;5;124m'\u001b[39m, how\u001b[38;5;241m=\u001b[39m\u001b[38;5;124m'\u001b[39m\u001b[38;5;124mleft\u001b[39m\u001b[38;5;124m'\u001b[39m)\n\u001b[0;32m     14\u001b[0m \u001b[38;5;66;03m# Now, update Sheet3's 'A' column with the matched values\u001b[39;00m\n\u001b[0;32m     15\u001b[0m sheet3_df[\u001b[38;5;124m'\u001b[39m\u001b[38;5;124mA\u001b[39m\u001b[38;5;124m'\u001b[39m] \u001b[38;5;241m=\u001b[39m merged_df[\u001b[38;5;124m'\u001b[39m\u001b[38;5;124mA_y\u001b[39m\u001b[38;5;124m'\u001b[39m]\n",
      "File \u001b[1;32m~\\anaconda\\Lib\\site-packages\\pandas\\core\\frame.py:3813\u001b[0m, in \u001b[0;36mDataFrame.__getitem__\u001b[1;34m(self, key)\u001b[0m\n\u001b[0;32m   3811\u001b[0m     \u001b[38;5;28;01mif\u001b[39;00m is_iterator(key):\n\u001b[0;32m   3812\u001b[0m         key \u001b[38;5;241m=\u001b[39m \u001b[38;5;28mlist\u001b[39m(key)\n\u001b[1;32m-> 3813\u001b[0m     indexer \u001b[38;5;241m=\u001b[39m \u001b[38;5;28mself\u001b[39m\u001b[38;5;241m.\u001b[39mcolumns\u001b[38;5;241m.\u001b[39m_get_indexer_strict(key, \u001b[38;5;124m\"\u001b[39m\u001b[38;5;124mcolumns\u001b[39m\u001b[38;5;124m\"\u001b[39m)[\u001b[38;5;241m1\u001b[39m]\n\u001b[0;32m   3815\u001b[0m \u001b[38;5;66;03m# take() does not accept boolean indexers\u001b[39;00m\n\u001b[0;32m   3816\u001b[0m \u001b[38;5;28;01mif\u001b[39;00m \u001b[38;5;28mgetattr\u001b[39m(indexer, \u001b[38;5;124m\"\u001b[39m\u001b[38;5;124mdtype\u001b[39m\u001b[38;5;124m\"\u001b[39m, \u001b[38;5;28;01mNone\u001b[39;00m) \u001b[38;5;241m==\u001b[39m \u001b[38;5;28mbool\u001b[39m:\n",
      "File \u001b[1;32m~\\anaconda\\Lib\\site-packages\\pandas\\core\\indexes\\base.py:6070\u001b[0m, in \u001b[0;36mIndex._get_indexer_strict\u001b[1;34m(self, key, axis_name)\u001b[0m\n\u001b[0;32m   6067\u001b[0m \u001b[38;5;28;01melse\u001b[39;00m:\n\u001b[0;32m   6068\u001b[0m     keyarr, indexer, new_indexer \u001b[38;5;241m=\u001b[39m \u001b[38;5;28mself\u001b[39m\u001b[38;5;241m.\u001b[39m_reindex_non_unique(keyarr)\n\u001b[1;32m-> 6070\u001b[0m \u001b[38;5;28mself\u001b[39m\u001b[38;5;241m.\u001b[39m_raise_if_missing(keyarr, indexer, axis_name)\n\u001b[0;32m   6072\u001b[0m keyarr \u001b[38;5;241m=\u001b[39m \u001b[38;5;28mself\u001b[39m\u001b[38;5;241m.\u001b[39mtake(indexer)\n\u001b[0;32m   6073\u001b[0m \u001b[38;5;28;01mif\u001b[39;00m \u001b[38;5;28misinstance\u001b[39m(key, Index):\n\u001b[0;32m   6074\u001b[0m     \u001b[38;5;66;03m# GH 42790 - Preserve name from an Index\u001b[39;00m\n",
      "File \u001b[1;32m~\\anaconda\\Lib\\site-packages\\pandas\\core\\indexes\\base.py:6130\u001b[0m, in \u001b[0;36mIndex._raise_if_missing\u001b[1;34m(self, key, indexer, axis_name)\u001b[0m\n\u001b[0;32m   6128\u001b[0m     \u001b[38;5;28;01mif\u001b[39;00m use_interval_msg:\n\u001b[0;32m   6129\u001b[0m         key \u001b[38;5;241m=\u001b[39m \u001b[38;5;28mlist\u001b[39m(key)\n\u001b[1;32m-> 6130\u001b[0m     \u001b[38;5;28;01mraise\u001b[39;00m \u001b[38;5;167;01mKeyError\u001b[39;00m(\u001b[38;5;124mf\u001b[39m\u001b[38;5;124m\"\u001b[39m\u001b[38;5;124mNone of [\u001b[39m\u001b[38;5;132;01m{\u001b[39;00mkey\u001b[38;5;132;01m}\u001b[39;00m\u001b[38;5;124m] are in the [\u001b[39m\u001b[38;5;132;01m{\u001b[39;00maxis_name\u001b[38;5;132;01m}\u001b[39;00m\u001b[38;5;124m]\u001b[39m\u001b[38;5;124m\"\u001b[39m)\n\u001b[0;32m   6132\u001b[0m not_found \u001b[38;5;241m=\u001b[39m \u001b[38;5;28mlist\u001b[39m(ensure_index(key)[missing_mask\u001b[38;5;241m.\u001b[39mnonzero()[\u001b[38;5;241m0\u001b[39m]]\u001b[38;5;241m.\u001b[39munique())\n\u001b[0;32m   6133\u001b[0m \u001b[38;5;28;01mraise\u001b[39;00m \u001b[38;5;167;01mKeyError\u001b[39;00m(\u001b[38;5;124mf\u001b[39m\u001b[38;5;124m\"\u001b[39m\u001b[38;5;132;01m{\u001b[39;00mnot_found\u001b[38;5;132;01m}\u001b[39;00m\u001b[38;5;124m not in index\u001b[39m\u001b[38;5;124m\"\u001b[39m)\n",
      "\u001b[1;31mKeyError\u001b[0m: \"None of [Index(['B', 'A'], dtype='object')] are in the [columns]\""
     ]
    }
   ],
   "source": [
    "import pandas as pd\n",
    "\n",
    "# Load the Excel file\n",
    "file_path = 'Jacksonville_Negotiation_Charges.xlsx'\n",
    "\n",
    "# Load the relevant sheets\n",
    "sheet3_df = pd.read_excel(file_path, sheet_name='Sheet3')\n",
    "plan_names_df = pd.read_excel(file_path, sheet_name='Plan names')\n",
    "\n",
    "# Merge the two dataframes on the 'B' column, where B is the common column\n",
    "# We're using 'left' join to keep all rows from Sheet3 and match only where possible with Plan names\n",
    "merged_df = sheet3_df.merge(plan_names_df[['B', 'A']], left_on='B', right_on='B', how='left')\n",
    "\n",
    "# Now, updating Sheet3's 'A' column with the matched values\n",
    "sheet3_df['A'] = merged_df['A_y']\n",
    "\n",
    "# Save the updated Sheet3 back into the same Excel file\n",
    "with pd.ExcelWriter(file_path, mode='a', engine='openpyxl') as writer:\n",
    "    sheet3_df.to_excel(writer, sheet_name='Sheet3', index=False)\n"
   ]
  },
  {
   "cell_type": "code",
   "execution_count": 6,
   "id": "dba4e53c",
   "metadata": {},
   "outputs": [
    {
     "ename": "KeyError",
     "evalue": "'B'",
     "output_type": "error",
     "traceback": [
      "\u001b[1;31m---------------------------------------------------------------------------\u001b[0m",
      "\u001b[1;31mKeyError\u001b[0m                                  Traceback (most recent call last)",
      "File \u001b[1;32m~\\anaconda\\Lib\\site-packages\\pandas\\core\\indexes\\base.py:3802\u001b[0m, in \u001b[0;36mIndex.get_loc\u001b[1;34m(self, key, method, tolerance)\u001b[0m\n\u001b[0;32m   3801\u001b[0m \u001b[38;5;28;01mtry\u001b[39;00m:\n\u001b[1;32m-> 3802\u001b[0m     \u001b[38;5;28;01mreturn\u001b[39;00m \u001b[38;5;28mself\u001b[39m\u001b[38;5;241m.\u001b[39m_engine\u001b[38;5;241m.\u001b[39mget_loc(casted_key)\n\u001b[0;32m   3803\u001b[0m \u001b[38;5;28;01mexcept\u001b[39;00m \u001b[38;5;167;01mKeyError\u001b[39;00m \u001b[38;5;28;01mas\u001b[39;00m err:\n",
      "File \u001b[1;32m~\\anaconda\\Lib\\site-packages\\pandas\\_libs\\index.pyx:138\u001b[0m, in \u001b[0;36mpandas._libs.index.IndexEngine.get_loc\u001b[1;34m()\u001b[0m\n",
      "File \u001b[1;32m~\\anaconda\\Lib\\site-packages\\pandas\\_libs\\index.pyx:165\u001b[0m, in \u001b[0;36mpandas._libs.index.IndexEngine.get_loc\u001b[1;34m()\u001b[0m\n",
      "File \u001b[1;32mpandas\\_libs\\hashtable_class_helper.pxi:5745\u001b[0m, in \u001b[0;36mpandas._libs.hashtable.PyObjectHashTable.get_item\u001b[1;34m()\u001b[0m\n",
      "File \u001b[1;32mpandas\\_libs\\hashtable_class_helper.pxi:5753\u001b[0m, in \u001b[0;36mpandas._libs.hashtable.PyObjectHashTable.get_item\u001b[1;34m()\u001b[0m\n",
      "\u001b[1;31mKeyError\u001b[0m: 'B'",
      "\nThe above exception was the direct cause of the following exception:\n",
      "\u001b[1;31mKeyError\u001b[0m                                  Traceback (most recent call last)",
      "Cell \u001b[1;32mIn[6], line 11\u001b[0m\n\u001b[0;32m      8\u001b[0m plan_names_df \u001b[38;5;241m=\u001b[39m pd\u001b[38;5;241m.\u001b[39mread_excel(file_path, sheet_name\u001b[38;5;241m=\u001b[39m\u001b[38;5;124m'\u001b[39m\u001b[38;5;124mPlan names\u001b[39m\u001b[38;5;124m'\u001b[39m)\n\u001b[0;32m     10\u001b[0m \u001b[38;5;66;03m# Create a dictionary from the 'Plan names' sheet where B column values map to A column values\u001b[39;00m\n\u001b[1;32m---> 11\u001b[0m plan_names_dict \u001b[38;5;241m=\u001b[39m \u001b[38;5;28mdict\u001b[39m(\u001b[38;5;28mzip\u001b[39m(plan_names_df[\u001b[38;5;124m'\u001b[39m\u001b[38;5;124mB\u001b[39m\u001b[38;5;124m'\u001b[39m], plan_names_df[\u001b[38;5;124m'\u001b[39m\u001b[38;5;124mA\u001b[39m\u001b[38;5;124m'\u001b[39m]))\n\u001b[0;32m     13\u001b[0m \u001b[38;5;66;03m# Compare the B column in Jacksonville Plans with the dictionary and create a new A column\u001b[39;00m\n\u001b[0;32m     14\u001b[0m jacksonville_df[\u001b[38;5;124m'\u001b[39m\u001b[38;5;124mA\u001b[39m\u001b[38;5;124m'\u001b[39m] \u001b[38;5;241m=\u001b[39m jacksonville_df[\u001b[38;5;124m'\u001b[39m\u001b[38;5;124mB\u001b[39m\u001b[38;5;124m'\u001b[39m]\u001b[38;5;241m.\u001b[39mmap(plan_names_dict)\n",
      "File \u001b[1;32m~\\anaconda\\Lib\\site-packages\\pandas\\core\\frame.py:3807\u001b[0m, in \u001b[0;36mDataFrame.__getitem__\u001b[1;34m(self, key)\u001b[0m\n\u001b[0;32m   3805\u001b[0m \u001b[38;5;28;01mif\u001b[39;00m \u001b[38;5;28mself\u001b[39m\u001b[38;5;241m.\u001b[39mcolumns\u001b[38;5;241m.\u001b[39mnlevels \u001b[38;5;241m>\u001b[39m \u001b[38;5;241m1\u001b[39m:\n\u001b[0;32m   3806\u001b[0m     \u001b[38;5;28;01mreturn\u001b[39;00m \u001b[38;5;28mself\u001b[39m\u001b[38;5;241m.\u001b[39m_getitem_multilevel(key)\n\u001b[1;32m-> 3807\u001b[0m indexer \u001b[38;5;241m=\u001b[39m \u001b[38;5;28mself\u001b[39m\u001b[38;5;241m.\u001b[39mcolumns\u001b[38;5;241m.\u001b[39mget_loc(key)\n\u001b[0;32m   3808\u001b[0m \u001b[38;5;28;01mif\u001b[39;00m is_integer(indexer):\n\u001b[0;32m   3809\u001b[0m     indexer \u001b[38;5;241m=\u001b[39m [indexer]\n",
      "File \u001b[1;32m~\\anaconda\\Lib\\site-packages\\pandas\\core\\indexes\\base.py:3804\u001b[0m, in \u001b[0;36mIndex.get_loc\u001b[1;34m(self, key, method, tolerance)\u001b[0m\n\u001b[0;32m   3802\u001b[0m     \u001b[38;5;28;01mreturn\u001b[39;00m \u001b[38;5;28mself\u001b[39m\u001b[38;5;241m.\u001b[39m_engine\u001b[38;5;241m.\u001b[39mget_loc(casted_key)\n\u001b[0;32m   3803\u001b[0m \u001b[38;5;28;01mexcept\u001b[39;00m \u001b[38;5;167;01mKeyError\u001b[39;00m \u001b[38;5;28;01mas\u001b[39;00m err:\n\u001b[1;32m-> 3804\u001b[0m     \u001b[38;5;28;01mraise\u001b[39;00m \u001b[38;5;167;01mKeyError\u001b[39;00m(key) \u001b[38;5;28;01mfrom\u001b[39;00m \u001b[38;5;21;01merr\u001b[39;00m\n\u001b[0;32m   3805\u001b[0m \u001b[38;5;28;01mexcept\u001b[39;00m \u001b[38;5;167;01mTypeError\u001b[39;00m:\n\u001b[0;32m   3806\u001b[0m     \u001b[38;5;66;03m# If we have a listlike key, _check_indexing_error will raise\u001b[39;00m\n\u001b[0;32m   3807\u001b[0m     \u001b[38;5;66;03m#  InvalidIndexError. Otherwise we fall through and re-raise\u001b[39;00m\n\u001b[0;32m   3808\u001b[0m     \u001b[38;5;66;03m#  the TypeError.\u001b[39;00m\n\u001b[0;32m   3809\u001b[0m     \u001b[38;5;28mself\u001b[39m\u001b[38;5;241m.\u001b[39m_check_indexing_error(key)\n",
      "\u001b[1;31mKeyError\u001b[0m: 'B'"
     ]
    }
   ],
   "source": [
    "import pandas as pd\n",
    "\n",
    "# Load the Excel file and the sheets into dataframes\n",
    "file_path = 'Jacksonville_Negotiation_Charges.xlsx'\n",
    "\n",
    "# Read both sheets\n",
    "jacksonville_df = pd.read_excel(file_path, sheet_name='Jacksonville plans')\n",
    "plan_names_df = pd.read_excel(file_path, sheet_name='Plan names')\n",
    "\n",
    "# Create a dictionary from the 'Plan names' sheet where B column values map to A column values\n",
    "plan_names_dict = dict(zip(plan_names_df['B'], plan_names_df['A']))\n",
    "\n",
    "# Compare the B column in Jacksonville Plans with the dictionary and create a new A column\n",
    "jacksonville_df['A'] = jacksonville_df['B'].map(plan_names_dict)\n",
    "\n",
    "# Save the result to a new sheet 'Sheet3' in the same Excel file\n",
    "with pd.ExcelWriter(file_path, mode='a', engine='openpyxl') as writer:\n",
    "    jacksonville_df.to_excel(writer, sheet_name='Sheet3', index=False)\n",
    "\n"
   ]
  },
  {
   "cell_type": "code",
   "execution_count": 9,
   "id": "e62821ff",
   "metadata": {},
   "outputs": [
    {
     "name": "stdout",
     "output_type": "stream",
     "text": [
      "Index(['Unnamed: 0', 'Aetna PPO (IP)'], dtype='object')\n",
      "Index([1, 'Aetna Medicare'], dtype='object')\n"
     ]
    }
   ],
   "source": [
    "import pandas as pd\n",
    "\n",
    "# Load the Excel file and the sheets into dataframes\n",
    "file_path = 'Jacksonville_Negotiation_Charges.xlsx'\n",
    "\n",
    "# Read both sheets\n",
    "jacksonville_df = pd.read_excel(file_path, sheet_name='Jacksonville plans')\n",
    "plan_names_df = pd.read_excel(file_path, sheet_name='Plan names')\n",
    "\n",
    "# Debug: Print the column names to verify them\n",
    "print(jacksonville_df.columns)\n",
    "print(plan_names_df.columns)\n",
    "\n",
    "# Access columns by index (0-based, so B is index 1 and A is index 0)\n",
    "# plan_names_df['B'] corresponds to the second column in 'Plan names' (index 1)\n",
    "# plan_names_df['A'] corresponds to the first column in 'Plan names' (index 0)\n",
    "plan_names_dict = dict(zip(plan_names_df.iloc[:, 1], plan_names_df.iloc[:, 0]))\n",
    "\n",
    "# Compare the B column in Jacksonville Plans with the dictionary and create a new A column\n",
    "# In jacksonville_df, column 'B' corresponds to index 1 (second column)\n",
    "jacksonville_df['A'] = jacksonville_df.iloc[:, 1].map(plan_names_dict)\n",
    "\n",
    "# Save the result to a new sheet 'Sheet3' in the same Excel file\n",
    "with pd.ExcelWriter(file_path, mode='a', engine='openpyxl') as writer:\n",
    "    jacksonville_df.to_excel(writer, sheet_name='Sheet3', index=False)\n"
   ]
  },
  {
   "cell_type": "code",
   "execution_count": 3,
   "id": "40e9cf70",
   "metadata": {},
   "outputs": [
    {
     "name": "stdout",
     "output_type": "stream",
     "text": [
      "File has been saved successfully.\n"
     ]
    }
   ],
   "source": [
    "###Discard this \n",
    "import pandas as pd\n",
    "\n",
    "# Load the Excel file and the sheets into dataframes\n",
    "file_path = 'Jacksonville_Negotiation_Charges.xlsx'\n",
    "\n",
    "# Read both sheets\n",
    "jacksonville_df = pd.read_excel(file_path, sheet_name='Jacksonville plans')\n",
    "plan_names_df = pd.read_excel(file_path, sheet_name='Plan names')\n",
    "\n",
    "# Access columns by index (0-based, so B is index 1 and A is index 0)\n",
    "plan_names_dict = dict(zip(plan_names_df.iloc[:, 1], plan_names_df.iloc[:, 0]))\n",
    "\n",
    "# Compare the B column in Jacksonville Plans with the dictionary and create a new A column\n",
    "jacksonville_df['A'] = jacksonville_df.iloc[:, 1].map(plan_names_dict)\n",
    "\n",
    "# Save the result to a new sheet 'Sheet3' in the same Excel file\n",
    "with pd.ExcelWriter(file_path, mode='a', engine='openpyxl') as writer:\n",
    "    jacksonville_df.to_excel(writer, sheet_name='Sheet4', index=False)\n",
    "\n",
    "# Ensure the file is saved and closed properly\n",
    "print(\"File has been saved successfully.\")\n"
   ]
  },
  {
   "cell_type": "code",
   "execution_count": 6,
   "id": "8bd2e204",
   "metadata": {},
   "outputs": [
    {
     "name": "stdout",
     "output_type": "stream",
     "text": [
      "Common values highlighted and saved to the 'Common Plans' sheet in the same Excel file.\n"
     ]
    }
   ],
   "source": [
    "###Run thise code - Code to find out the comon plans\n",
    "import pandas as pd\n",
    "from openpyxl import load_workbook\n",
    "from openpyxl.styles import PatternFill\n",
    "\n",
    "# Path to the Excel file\n",
    "file_path = 'Jacksonville_Negotiation_Charges.xlsx'\n",
    "\n",
    "# Load the \"Plans Comparison\" sheet into a pandas DataFrame\n",
    "df = pd.read_excel(file_path, sheet_name='Plans comparison')\n",
    "\n",
    "# Find common values between column B and column C\n",
    "common_values = set(df['Plans list']).intersection(df['Jacksonville plans'])\n",
    "\n",
    "# Load the workbook and the 'Plans comparison' sheet\n",
    "wb = load_workbook(file_path)\n",
    "sheet = wb['Plans comparison']\n",
    "\n",
    "# Create a new sheet 'Common Plans'\n",
    "common_plans_sheet = wb.create_sheet('Common Plans')\n",
    "\n",
    "# Copy the data from the original sheet to the new sheet (only columns B and C)\n",
    "for row in sheet.iter_rows(min_row=1, max_row=len(df) + 1, min_col=2, max_col=3):  # Only columns B and C\n",
    "    for cell in row:\n",
    "        common_plans_sheet[cell.coordinate].value = cell.value\n",
    "\n",
    "# Define a highlight color (yellow in this case)\n",
    "highlight = PatternFill(start_color=\"FFFF00\", end_color=\"FFFF00\", fill_type=\"solid\")\n",
    "\n",
    "# Iterate through the rows and highlight common values in columns B and C in the new sheet\n",
    "for row in range(2, len(df) + 2):  # Starting from row 2 to skip header\n",
    "    if common_plans_sheet[f'B{row}'].value in common_values:\n",
    "        common_plans_sheet[f'B{row}'].fill = highlight\n",
    "    if common_plans_sheet[f'C{row}'].value in common_values:\n",
    "        common_plans_sheet[f'C{row}'].fill = highlight\n",
    "\n",
    "# Save the workbook **in the same file** with the new sheet added\n",
    "wb.save(file_path)\n",
    "\n",
    "print(\"Common values highlighted and saved to the 'Common Plans' sheet in the same Excel file.\")\n"
   ]
  },
  {
   "cell_type": "code",
   "execution_count": 8,
   "id": "8ab551bd",
   "metadata": {},
   "outputs": [
    {
     "name": "stdout",
     "output_type": "stream",
     "text": [
      "payer_id updated successfully in Sheet2 based on matching plan_name.\n"
     ]
    }
   ],
   "source": [
    "###Run this code - code to fill plan id by comparing with the plan names in master list \n",
    "import pandas as pd\n",
    "from openpyxl import load_workbook\n",
    "\n",
    "# Path to the Excel file\n",
    "file_path = 'Jacksonville_Negotiation_Charges.xlsx'\n",
    "\n",
    "# Load the sheets into pandas DataFrames\n",
    "sheet2_df = pd.read_excel(file_path, sheet_name='Sheet2')\n",
    "master_plans_df = pd.read_excel(file_path, sheet_name='Master Plans List')\n",
    "\n",
    "# Create a dictionary mapping plan_name to payer_id from Master Plans List\n",
    "plan_name_to_plan_id = dict(zip(master_plans_df['plan_name'], master_plans_df['plan_id']))\n",
    "\n",
    "# Fill the 'payer_id' column in Sheet2 by looking up the plan_name\n",
    "sheet2_df['plan_id'] = sheet2_df['plan_name'].map(plan_name_to_plan_id)\n",
    "\n",
    "# Load the workbook and the Sheet2 to save the updated data\n",
    "wb = load_workbook(file_path)\n",
    "sheet2 = wb['Sheet2']\n",
    "\n",
    "# Update the payer_id column in Sheet2 with the new values from pandas DataFrame\n",
    "for idx, row in sheet2_df.iterrows():\n",
    "    sheet2.cell(row=idx+2, column=sheet2_df.columns.get_loc('plan_id')+1).value = row['plan_id']\n",
    "\n",
    "# Save the workbook with the updated payer_id column in Sheet2\n",
    "wb.save(file_path)\n",
    "\n",
    "print(\"payer_id updated successfully in Sheet2 based on matching plan_name.\")\n"
   ]
  },
  {
   "cell_type": "code",
   "execution_count": null,
   "id": "a79d36f5",
   "metadata": {},
   "outputs": [],
   "source": []
  }
 ],
 "metadata": {
  "kernelspec": {
   "display_name": "Python 3 (ipykernel)",
   "language": "python",
   "name": "python3"
  },
  "language_info": {
   "codemirror_mode": {
    "name": "ipython",
    "version": 3
   },
   "file_extension": ".py",
   "mimetype": "text/x-python",
   "name": "python",
   "nbconvert_exporter": "python",
   "pygments_lexer": "ipython3",
   "version": "3.11.4"
  }
 },
 "nbformat": 4,
 "nbformat_minor": 5
}

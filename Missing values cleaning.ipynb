{
 "cells": [
  {
   "cell_type": "code",
   "execution_count": 6,
   "id": "d803a277",
   "metadata": {},
   "outputs": [],
   "source": [
    "import pandas as pd\n",
    "\n",
    "\n",
    "jacksonville_cleaned_dataset = pd.read_excel(\"Jacksonville cleaned dataset.xlsx\")"
   ]
  },
  {
   "cell_type": "code",
   "execution_count": 7,
   "id": "dbd0633d",
   "metadata": {},
   "outputs": [
    {
     "name": "stdout",
     "output_type": "stream",
     "text": [
      "code|1                                                                                  0\n",
      "description                                                                             0\n",
      "standard_charge | gross                                                                 0\n",
      "standard_charge | discounted_cash                                                       0\n",
      "standard_charge | min                                                                   0\n",
      "standard_charge | max                                                                   0\n",
      "standard_charge|BCBS PPO (IP)|negotiated_dollar                                         0\n",
      "standard_charge|BCBS PPO (OP)|negotiated_dollar                                         0\n",
      "standard_charge|BCBS HMO (IP)|negotiated_dollar                                         0\n",
      "standard_charge|BCBS HMO (OP)|negotiated_dollar                                         0\n",
      "standard_charge|BCBS BlueChoice (IP)|negotiated_dollar                                  0\n",
      "standard_charge|BCBS BlueChoice (OP)|negotiated_dollar                                  0\n",
      "standard_charge|BCBS Indemnity (IP) |negotiated_dollar                                  0\n",
      "standard_charge|BCBS Indemnity (OP) |negotiated_dollar                                  0\n",
      "standard_charge|Aetna PPO (IP)|negotiated_dollar                                        0\n",
      "standard_charge|Aetna PPO (OP)|negotiated_dollar                                        0\n",
      "standard_charge|Aetna/Coventry One PPO/ASA/ACA (IP)|negotiated_dollar                   0\n",
      "standard_charge|Aetna/Coventry One PPO/AS)/ACA (OP)|negotiated_dollar                   0\n",
      "standard_charge|Aetna/Coventry PPO (IP)|negotiated_dollar                               0\n",
      "standard_charge|Aetna/Coventry PPO (OP)|negotiated_dollar                               0\n",
      "standard_charge|Aetna/Coventry IL HMO (IP)|negotiated_dollar                            0\n",
      "standard_charge|Aetna/Coventry IL HMO (OP)|negotiated_dollar                            0\n",
      "standard_charge|Aetna/Coventry IL OAP (IP)|negotiated_dollar                            0\n",
      "standard_charge|Aetna/Coventry IL OAP (OP)|negotiated_dollar                            0\n",
      "standard_charge|Aetna QCHP State of IL (IP)|negotiated_dollar                           0\n",
      "standard_charge|Aetna QCHP State of IL (OP)|negotiated_dollar                           0\n",
      "standard_charge|Aetna Meritain (IP) |negotiated_dollar                                  0\n",
      "standard_charge|Aetna Meritain (OP) |negotiated_dollar                                  0\n",
      "standard_charge|Cigna (IP) |negotiated_dollar                                           0\n",
      "standard_charge|Cigna (OP) |negotiated_dollar                                           0\n",
      "standard_charge |Corvel/CoreCare (IP)  | negotiated_dollar                              0\n",
      "standard_charge |Corvel/CoreCare (OP)  | negotiated_dollar                              0\n",
      "standard_charge|UHC (OP)|negotiated_dollar                                              0\n",
      "standard_charge|Health Alliance ACA (OP)|negotiated_dollar                              0\n",
      "standard_charge|Health Alliance Fully Insured and Self Funded (OP)|negotiated_dollar    0\n",
      "standard_charge|HealthLink HMO (OP)|negotiated_dollar                                   0\n",
      "standard_charge|HFN (IP)|negotiated_dollar                                              0\n",
      "standard_charge|HFN (OP)|negotiated_dollar                                              0\n",
      "standard_charge|Humana Choice Care (IP)|negotiated_dollar                               0\n",
      "standard_charge|Humana Choice Care (OP)|negotiated_dollar                               0\n",
      "standard_charge|PHCS Savility (IP)|negotiated_dollar                                    0\n",
      "standard_charge|PHCS Savility (OP)|negotiated_dollar                                    0\n",
      "standard_charge|Current Health (IP)|negotiated_dollar                                   0\n",
      "standard_charge|Current Health (OP)|negotiated_dollar                                   0\n",
      "standard_charge|IL  Workers Compensation  (OP)|negotiated_dollar                        0\n",
      "standard_charge|Corvel Workers Compensation Trauma (OP)|negotiated_dollar               0\n",
      "standard_charge|HealthAlliance Medicare Advantage (OP)|negotiated_dollar                0\n",
      "standard_charge|Aetna/Coventry Medicare Advantage (OP)|negotiated_dollar                0\n",
      "standard_charge|Humana PPO Medicare Advantage (OP)|negotiated_dollar                    0\n",
      "standard_charge|UHC PPO Medicare Advantage (OP)|negotiated_dollar                       0\n",
      "standard_charge|BCBS PPO/HMO Medicare Advantage (OP)|negotiated_dollar                  0\n",
      "standard_charge|WellCare Medicare Advantage (OP)|negotiated_dollar                      0\n",
      "standard_charge|Tricare (OP)|negotiated_dollar                                          0\n",
      "standard_charge|Veterans Administration (OP)|negotiated_dollar                          0\n",
      "standard_charge|BCBS MMAI (OP)|negotiated_dollar                                        0\n",
      "standard_charge|Meridian Complete MMAI (OP)|negotiated_dollar                           0\n",
      "standard_charge|Non-Contracted Payor (IP)|negotiated_dollar                             0\n",
      "standard_charge|Non-Contracted  Payor (OP)|negotiated_dollar                            0\n",
      "dtype: int64\n"
     ]
    }
   ],
   "source": [
    "missing_values = jacksonville_cleaned_dataset.isnull().sum()\n",
    "\n",
    "print(missing_values)"
   ]
  },
  {
   "cell_type": "code",
   "execution_count": 8,
   "id": "3472df64",
   "metadata": {},
   "outputs": [
    {
     "name": "stdout",
     "output_type": "stream",
     "text": [
      "Empty DataFrame\n",
      "Columns: [code|1, description, standard_charge | gross, standard_charge | discounted_cash, standard_charge | min, standard_charge | max, standard_charge|BCBS PPO (IP)|negotiated_dollar, standard_charge|BCBS PPO (OP)|negotiated_dollar, standard_charge|BCBS HMO (IP)|negotiated_dollar, standard_charge|BCBS HMO (OP)|negotiated_dollar, standard_charge|BCBS BlueChoice (IP)|negotiated_dollar, standard_charge|BCBS BlueChoice (OP)|negotiated_dollar, standard_charge|BCBS Indemnity (IP) |negotiated_dollar, standard_charge|BCBS Indemnity (OP) |negotiated_dollar, standard_charge|Aetna PPO (IP)|negotiated_dollar, standard_charge|Aetna PPO (OP)|negotiated_dollar, standard_charge|Aetna/Coventry One PPO/ASA/ACA (IP)|negotiated_dollar, standard_charge|Aetna/Coventry One PPO/AS)/ACA (OP)|negotiated_dollar, standard_charge|Aetna/Coventry PPO (IP)|negotiated_dollar, standard_charge|Aetna/Coventry PPO (OP)|negotiated_dollar, standard_charge|Aetna/Coventry IL HMO (IP)|negotiated_dollar, standard_charge|Aetna/Coventry IL HMO (OP)|negotiated_dollar, standard_charge|Aetna/Coventry IL OAP (IP)|negotiated_dollar, standard_charge|Aetna/Coventry IL OAP (OP)|negotiated_dollar, standard_charge|Aetna QCHP State of IL (IP)|negotiated_dollar, standard_charge|Aetna QCHP State of IL (OP)|negotiated_dollar, standard_charge|Aetna Meritain (IP) |negotiated_dollar, standard_charge|Aetna Meritain (OP) |negotiated_dollar, standard_charge|Cigna (IP) |negotiated_dollar, standard_charge|Cigna (OP) |negotiated_dollar, standard_charge |Corvel/CoreCare (IP)  | negotiated_dollar, standard_charge |Corvel/CoreCare (OP)  | negotiated_dollar, standard_charge|UHC (OP)|negotiated_dollar, standard_charge|Health Alliance ACA (OP)|negotiated_dollar, standard_charge|Health Alliance Fully Insured and Self Funded (OP)|negotiated_dollar, standard_charge|HealthLink HMO (OP)|negotiated_dollar, standard_charge|HFN (IP)|negotiated_dollar, standard_charge|HFN (OP)|negotiated_dollar, standard_charge|Humana Choice Care (IP)|negotiated_dollar, standard_charge|Humana Choice Care (OP)|negotiated_dollar, standard_charge|PHCS Savility (IP)|negotiated_dollar, standard_charge|PHCS Savility (OP)|negotiated_dollar, standard_charge|Current Health (IP)|negotiated_dollar, standard_charge|Current Health (OP)|negotiated_dollar, standard_charge|IL  Workers Compensation  (OP)|negotiated_dollar, standard_charge|Corvel Workers Compensation Trauma (OP)|negotiated_dollar, standard_charge|HealthAlliance Medicare Advantage (OP)|negotiated_dollar, standard_charge|Aetna/Coventry Medicare Advantage (OP)|negotiated_dollar, standard_charge|Humana PPO Medicare Advantage (OP)|negotiated_dollar, standard_charge|UHC PPO Medicare Advantage (OP)|negotiated_dollar, standard_charge|BCBS PPO/HMO Medicare Advantage (OP)|negotiated_dollar, standard_charge|WellCare Medicare Advantage (OP)|negotiated_dollar, standard_charge|Tricare (OP)|negotiated_dollar, standard_charge|Veterans Administration (OP)|negotiated_dollar, standard_charge|BCBS MMAI (OP)|negotiated_dollar, standard_charge|Meridian Complete MMAI (OP)|negotiated_dollar, standard_charge|Non-Contracted Payor (IP)|negotiated_dollar, standard_charge|Non-Contracted  Payor (OP)|negotiated_dollar]\n",
      "Index: []\n",
      "\n",
      "[0 rows x 58 columns]\n"
     ]
    }
   ],
   "source": [
    "rows_with_missing = jacksonville_cleaned_dataset[jacksonville_cleaned_dataset.isnull().any(axis=1)]\n",
    "\n",
    "print(rows_with_missing)"
   ]
  },
  {
   "cell_type": "code",
   "execution_count": null,
   "id": "d20ff588",
   "metadata": {},
   "outputs": [],
   "source": [
    "\n",
    "import pandas as pd\n",
    "\n",
    "\n",
    "jacksonville_cleaned_dataset = pd.read_excel(\"Springfield_Memorial_Hospital cleaned dataset.xlsx\")"
   ]
  },
  {
   "cell_type": "code",
   "execution_count": null,
   "id": "1a7b8146",
   "metadata": {},
   "outputs": [],
   "source": [
    "missing_values = jacksonville_cleaned_dataset.isnull().sum()\n",
    "\n",
    "print(missing_values)"
   ]
  }
 ],
 "metadata": {
  "kernelspec": {
   "display_name": "Python 3 (ipykernel)",
   "language": "python",
   "name": "python3"
  },
  "language_info": {
   "codemirror_mode": {
    "name": "ipython",
    "version": 3
   },
   "file_extension": ".py",
   "mimetype": "text/x-python",
   "name": "python",
   "nbconvert_exporter": "python",
   "pygments_lexer": "ipython3",
   "version": "3.11.4"
  }
 },
 "nbformat": 4,
 "nbformat_minor": 5
}
